{
 "cells": [
  {
   "metadata": {
    "ExecuteTime": {
     "end_time": "2024-10-27T13:20:49.267799Z",
     "start_time": "2024-10-27T13:20:49.256325Z"
    }
   },
   "cell_type": "code",
   "source": [
    "import sys,os\n",
    "import pandas as pd\n",
    "import numpy as np\n",
    "import json\n",
    "import matplotlib.pyplot as plt\n",
    "from matplotlib.image import imread\n",
    "from sklearn.model_selection import train_test_split\n",
    "from PIL import Image\n",
    "from simple_convent import SimpleConvNet\n",
    "from common.trainer import Trainer"
   ],
   "id": "fbc121e30a2defb3",
   "outputs": [],
   "execution_count": 36
  },
  {
   "metadata": {
    "ExecuteTime": {
     "end_time": "2024-10-27T13:20:49.274882Z",
     "start_time": "2024-10-27T13:20:49.272016Z"
    }
   },
   "cell_type": "code",
   "source": [
    "def box_off():\n",
    "    ax=plt.gca()\n",
    "    ax.spines['top'].set_visible(False)\n",
    "    ax.spines['right'].set_visible(False)"
   ],
   "id": "53ede7f09681c236",
   "outputs": [],
   "execution_count": 37
  },
  {
   "metadata": {
    "ExecuteTime": {
     "end_time": "2024-10-27T13:20:49.874486Z",
     "start_time": "2024-10-27T13:20:49.278263Z"
    }
   },
   "cell_type": "code",
   "source": [
    "G1020_img=[]\n",
    "G1020_label=[]\n",
    "ORIGA_img=[]\n",
    "ORIGA_label=[]\n",
    "REFUGE_img=[]\n",
    "REFUGE_label=[]"
   ],
   "id": "e76b537005c56909",
   "outputs": [],
   "execution_count": 38
  },
  {
   "metadata": {
    "ExecuteTime": {
     "end_time": "2024-10-27T13:20:49.920815Z",
     "start_time": "2024-10-27T13:20:49.879015Z"
    }
   },
   "cell_type": "code",
   "source": [
    "G1020_info=pd.read_csv('data/G1020/G1020.csv')\n",
    "ORIGA_info=pd.read_csv('data/ORIGA/OrigaList.csv')"
   ],
   "id": "d1b713d175fc4e04",
   "outputs": [],
   "execution_count": 39
  },
  {
   "metadata": {
    "ExecuteTime": {
     "end_time": "2024-10-27T13:20:49.935723Z",
     "start_time": "2024-10-27T13:20:49.924110Z"
    }
   },
   "cell_type": "code",
   "source": [
    "with open('data/REFUGE/index.json','r') as f:\n",
    "    REFUGE_info = json.load(f)"
   ],
   "id": "e8fd54255ba47c90",
   "outputs": [],
   "execution_count": 40
  },
  {
   "metadata": {
    "ExecuteTime": {
     "end_time": "2024-10-27T13:21:05.863032Z",
     "start_time": "2024-10-27T13:20:49.940347Z"
    }
   },
   "cell_type": "code",
   "source": [
    "for index in REFUGE_info:\n",
    "    image_name=REFUGE_info[index]['ImgName']\n",
    "    label=REFUGE_info[index]['Label']\n",
    "    image=imread(\"data/REFUGE/Images/\"+image_name)\n",
    "    \n",
    "    REFUGE_img.append(image)\n",
    "    REFUGE_label.append(label)"
   ],
   "id": "50272f05ca66f497",
   "outputs": [],
   "execution_count": 41
  },
  {
   "metadata": {
    "ExecuteTime": {
     "end_time": "2024-10-27T13:21:08.597035Z",
     "start_time": "2024-10-27T13:21:05.870648Z"
    }
   },
   "cell_type": "code",
   "source": [
    "for index in range(len(ORIGA_info)):\n",
    "    image_name=ORIGA_info.Filename[index]\n",
    "    label=ORIGA_info.Glaucoma[index]\n",
    "    image=imread(\"data/ORIGA/Images_Square/\"+image_name)\n",
    "    \n",
    "    ORIGA_img.append(image)\n",
    "    ORIGA_label.append(label)"
   ],
   "id": "ccf9f80568bf3fc4",
   "outputs": [],
   "execution_count": 42
  },
  {
   "metadata": {
    "ExecuteTime": {
     "end_time": "2024-10-27T13:21:12.724141Z",
     "start_time": "2024-10-27T13:21:08.606117Z"
    }
   },
   "cell_type": "code",
   "source": [
    "for index in range(len(G1020_info)):\n",
    "    image_name=G1020_info.imageID[index]\n",
    "    label=G1020_info.binaryLabels[index]\n",
    "    image=imread(\"data/G1020/Images_Square/\"+image_name)\n",
    "    \n",
    "    G1020_img.append(image)\n",
    "    G1020_label.append(label)"
   ],
   "id": "b4a422163bb98bf8",
   "outputs": [],
   "execution_count": 43
  },
  {
   "metadata": {
    "ExecuteTime": {
     "end_time": "2024-10-27T13:21:12.749450Z",
     "start_time": "2024-10-27T13:21:12.741018Z"
    }
   },
   "cell_type": "code",
   "source": [
    "print(\"G1020 dim:\", G1020_img[0].shape)\n",
    "print(\"ORIGA dim:\", ORIGA_img[0].shape)\n",
    "print(\"REFUGE dim:\", REFUGE_img[0].shape)"
   ],
   "id": "2bc7c6fa74e8ba05",
   "outputs": [
    {
     "name": "stdout",
     "output_type": "stream",
     "text": [
      "G1020 dim: (512, 512, 3)\n",
      "ORIGA dim: (512, 512, 3)\n",
      "REFUGE dim: (1634, 1634, 3)\n"
     ]
    }
   ],
   "execution_count": 44
  },
  {
   "metadata": {
    "ExecuteTime": {
     "end_time": "2024-10-27T13:21:13.651447Z",
     "start_time": "2024-10-27T13:21:12.841816Z"
    }
   },
   "cell_type": "code",
   "source": [
    "\n",
    "G1020_resized_img,G1020_labels = np.array(G1020_img),np.array(G1020_label)\n",
    "ORIGA_resized_img,ORIGA_labels = np.array(ORIGA_img),np.array(ORIGA_label)"
   ],
   "id": "b5d664d61de4b13",
   "outputs": [],
   "execution_count": 45
  },
  {
   "metadata": {
    "ExecuteTime": {
     "end_time": "2024-10-27T13:21:26.665027Z",
     "start_time": "2024-10-27T13:21:13.670340Z"
    }
   },
   "cell_type": "code",
   "source": [
    "REFUGE_resized_img = []\n",
    "for i in REFUGE_img:\n",
    "    PIL_img = Image.fromarray(i)\n",
    "    resized_img = PIL_img.resize((512, 512))\n",
    "    REFUGE_resized_img.append(np.array(resized_img))\n",
    "'''G1020_resized_img = []\n",
    "for i in G1020_img:\n",
    "    PIL_img = Image.fromarray(i)\n",
    "    resized_img = PIL_img.resize((128, 128))\n",
    "    G1020_resized_img.append(np.array(resized_img))\n",
    "ORIGA_resized_img = []\n",
    "for i in ORIGA_img:\n",
    "    PIL_img = Image.fromarray(i)\n",
    "    resized_img = PIL_img.resize((128, 128))\n",
    "    ORIGA_resized_img.append(np.array(resized_img))'''\n",
    "print(\"Resized REFUGE dim:\", REFUGE_resized_img[0].shape)\n",
    "print(\"Resized G1020 dim:\", G1020_resized_img[0].shape)\n",
    "print(\"Resized ORIGA dim:\", ORIGA_resized_img[0].shape)"
   ],
   "id": "2174882c5fd7955c",
   "outputs": [
    {
     "name": "stdout",
     "output_type": "stream",
     "text": [
      "Resized REFUGE dim: (512, 512, 3)\n",
      "Resized G1020 dim: (512, 512, 3)\n",
      "Resized ORIGA dim: (512, 512, 3)\n"
     ]
    }
   ],
   "execution_count": 46
  },
  {
   "metadata": {
    "ExecuteTime": {
     "end_time": "2024-10-27T13:21:27.731662Z",
     "start_time": "2024-10-27T13:21:26.815728Z"
    }
   },
   "cell_type": "code",
   "source": [
    "G1020_train_img, G1020_test_img, G1020_train_label, G1020_test_label = train_test_split(\n",
    "    G1020_resized_img, G1020_labels, test_size=0.2, random_state=42)\n",
    "ORIGA_train_img, ORIGA_test_img, ORIGA_train_label, ORIGA_test_label = train_test_split(\n",
    "    ORIGA_resized_img, ORIGA_labels, test_size=0.2, random_state=42)\n",
    "REFUGE_train_img, REFUGE_test_img, REFUGE_train_label, REFUGE_test_label = train_test_split(\n",
    "    REFUGE_resized_img, REFUGE_label, test_size=0.2, random_state=42)"
   ],
   "id": "351b5f31eb5a1618",
   "outputs": [],
   "execution_count": 47
  },
  {
   "metadata": {
    "ExecuteTime": {
     "end_time": "2024-10-27T13:21:28.912704Z",
     "start_time": "2024-10-27T13:21:27.735949Z"
    }
   },
   "cell_type": "code",
   "source": [
    "TRAIN_image = np.concatenate([G1020_train_img, ORIGA_train_img, REFUGE_train_img])\n",
    "TRAIN_label = np.concatenate([G1020_train_label, ORIGA_train_label, REFUGE_train_label])\n",
    "TEST_image = np.concatenate([G1020_test_img, ORIGA_test_img, REFUGE_test_img])\n",
    "TEST_label = np.concatenate([G1020_test_label, ORIGA_test_label, REFUGE_test_label])"
   ],
   "id": "b466b8ae569b432a",
   "outputs": [],
   "execution_count": 48
  },
  {
   "metadata": {
    "ExecuteTime": {
     "end_time": "2024-10-27T13:21:28.996686Z",
     "start_time": "2024-10-27T13:21:28.991819Z"
    }
   },
   "cell_type": "code",
   "source": [
    "print(\"TRAIN_img.shape:\", TRAIN_image.shape)\n",
    "print(\"TRAIN_label.shape:\", TRAIN_label.shape)\n",
    "print(\"TEST_image.shape:\", TEST_image.shape)\n",
    "print(\"TEST_label.shape:\", TEST_label.shape)\n"
   ],
   "id": "6553468e836d7246",
   "outputs": [
    {
     "name": "stdout",
     "output_type": "stream",
     "text": [
      "TRAIN_img.shape: (1656, 512, 512, 3)\n",
      "TRAIN_label.shape: (1656,)\n",
      "TEST_image.shape: (414, 512, 512, 3)\n",
      "TEST_label.shape: (414,)\n"
     ]
    }
   ],
   "execution_count": 49
  },
  {
   "metadata": {
    "ExecuteTime": {
     "end_time": "2024-10-27T13:21:30.088607Z",
     "start_time": "2024-10-27T13:21:29.013110Z"
    }
   },
   "cell_type": "code",
   "source": [
    "# 입력 데이터를 (샘플 수, 채널 수, 높이, 너비) 형태로 변환\n",
    "TRAIN_img = TRAIN_image.transpose(0, 3, 1, 2)  # (1656, 3, 512, 512)\n",
    "TEST_image = TEST_image.transpose(0, 3, 1, 2)  # (414, 3, 512, 512)\n"
   ],
   "id": "db81f9b25f7c78ba",
   "outputs": [],
   "execution_count": 50
  },
  {
   "metadata": {
    "ExecuteTime": {
     "end_time": "2024-10-27T13:21:30.103853Z",
     "start_time": "2024-10-27T13:21:30.099730Z"
    }
   },
   "cell_type": "code",
   "source": "max_epochs=20",
   "id": "4ec778fd00daeb57",
   "outputs": [],
   "execution_count": 51
  },
  {
   "metadata": {
    "ExecuteTime": {
     "end_time": "2024-10-27T13:21:49.937388Z",
     "start_time": "2024-10-27T13:21:30.108226Z"
    }
   },
   "cell_type": "code",
   "source": [
    "network = SimpleConvNet(input_dim=(3,512,512), \n",
    "                        conv_param = {'filter_num': 32, 'filter_size': 5, 'pad': 0, 'stride': 1},\n",
    "                        hidden_size=256, output_size=2, weight_init_std=0.01)"
   ],
   "id": "5b1b4254dba6e258",
   "outputs": [],
   "execution_count": 52
  },
  {
   "metadata": {
    "ExecuteTime": {
     "end_time": "2024-10-27T13:21:50.014755Z",
     "start_time": "2024-10-27T13:21:49.972219Z"
    }
   },
   "cell_type": "code",
   "source": [
    "trainer = Trainer(network, TRAIN_image, TRAIN_label, TEST_image, TEST_label,\n",
    "                  epochs=max_epochs, mini_batch_size=100,\n",
    "                  optimizer='Adam', optimizer_param={'lr': 0.001},\n",
    "                  evaluate_sample_num_per_epoch=1000)"
   ],
   "id": "6ef96a799b23ed18",
   "outputs": [],
   "execution_count": 53
  },
  {
   "metadata": {
    "ExecuteTime": {
     "end_time": "2024-10-27T13:21:54.313928Z",
     "start_time": "2024-10-27T13:21:50.229631Z"
    }
   },
   "cell_type": "code",
   "source": "trainer.train()",
   "id": "fcde31c2d81405af",
   "outputs": [
    {
     "name": "stdout",
     "output_type": "stream",
     "text": [
      "331\n"
     ]
    },
    {
     "ename": "ValueError",
     "evalue": "negative dimensions are not allowed",
     "output_type": "error",
     "traceback": [
      "\u001B[0;31m---------------------------------------------------------------------------\u001B[0m",
      "\u001B[0;31mValueError\u001B[0m                                Traceback (most recent call last)",
      "Cell \u001B[0;32mIn[54], line 1\u001B[0m\n\u001B[0;32m----> 1\u001B[0m trainer\u001B[38;5;241m.\u001B[39mtrain()\n",
      "File \u001B[0;32m~/PycharmProjects/project1_20213128/common/trainer.py:77\u001B[0m, in \u001B[0;36mTrainer.train\u001B[0;34m(self)\u001B[0m\n\u001B[1;32m     75\u001B[0m \u001B[38;5;28;01mfor\u001B[39;00m i \u001B[38;5;129;01min\u001B[39;00m \u001B[38;5;28mrange\u001B[39m(\u001B[38;5;28mself\u001B[39m\u001B[38;5;241m.\u001B[39mmax_iter):\n\u001B[1;32m     76\u001B[0m     \u001B[38;5;28mprint\u001B[39m(\u001B[38;5;28mself\u001B[39m\u001B[38;5;241m.\u001B[39mmax_iter\u001B[38;5;241m-\u001B[39mi)\n\u001B[0;32m---> 77\u001B[0m     \u001B[38;5;28mself\u001B[39m\u001B[38;5;241m.\u001B[39mtrain_step()\n\u001B[1;32m     79\u001B[0m test_acc \u001B[38;5;241m=\u001B[39m \u001B[38;5;28mself\u001B[39m\u001B[38;5;241m.\u001B[39mnetwork\u001B[38;5;241m.\u001B[39maccuracy(\u001B[38;5;28mself\u001B[39m\u001B[38;5;241m.\u001B[39mx_test, \u001B[38;5;28mself\u001B[39m\u001B[38;5;241m.\u001B[39mt_test)\n\u001B[1;32m     81\u001B[0m \u001B[38;5;28;01mif\u001B[39;00m \u001B[38;5;28mself\u001B[39m\u001B[38;5;241m.\u001B[39mverbose:\n",
      "File \u001B[0;32m~/PycharmProjects/project1_20213128/common/trainer.py:47\u001B[0m, in \u001B[0;36mTrainer.train_step\u001B[0;34m(self)\u001B[0m\n\u001B[1;32m     44\u001B[0m x_batch \u001B[38;5;241m=\u001B[39m \u001B[38;5;28mself\u001B[39m\u001B[38;5;241m.\u001B[39mx_train[batch_mask]\n\u001B[1;32m     45\u001B[0m t_batch \u001B[38;5;241m=\u001B[39m \u001B[38;5;28mself\u001B[39m\u001B[38;5;241m.\u001B[39mt_train[batch_mask]\n\u001B[0;32m---> 47\u001B[0m grads \u001B[38;5;241m=\u001B[39m \u001B[38;5;28mself\u001B[39m\u001B[38;5;241m.\u001B[39mnetwork\u001B[38;5;241m.\u001B[39mgradient(x_batch, t_batch)\n\u001B[1;32m     48\u001B[0m \u001B[38;5;28mself\u001B[39m\u001B[38;5;241m.\u001B[39moptimizer\u001B[38;5;241m.\u001B[39mupdate(\u001B[38;5;28mself\u001B[39m\u001B[38;5;241m.\u001B[39mnetwork\u001B[38;5;241m.\u001B[39mparams, grads)\n\u001B[1;32m     50\u001B[0m loss \u001B[38;5;241m=\u001B[39m \u001B[38;5;28mself\u001B[39m\u001B[38;5;241m.\u001B[39mnetwork\u001B[38;5;241m.\u001B[39mloss(x_batch, t_batch)\n",
      "File \u001B[0;32m~/PycharmProjects/project1_20213128/simple_convent.py:132\u001B[0m, in \u001B[0;36mSimpleConvNet.gradient\u001B[0;34m(self, x, t)\u001B[0m\n\u001B[1;32m    118\u001B[0m \u001B[38;5;250m\u001B[39m\u001B[38;5;124;03m\"\"\"기울기를 구한다(오차역전파법).\u001B[39;00m\n\u001B[1;32m    119\u001B[0m \n\u001B[1;32m    120\u001B[0m \u001B[38;5;124;03mParameters\u001B[39;00m\n\u001B[0;32m   (...)\u001B[0m\n\u001B[1;32m    129\u001B[0m \u001B[38;5;124;03m    grads['b1']、grads['b2']、... 각 층의 편향\u001B[39;00m\n\u001B[1;32m    130\u001B[0m \u001B[38;5;124;03m\"\"\"\u001B[39;00m\n\u001B[1;32m    131\u001B[0m \u001B[38;5;66;03m# forward\u001B[39;00m\n\u001B[0;32m--> 132\u001B[0m \u001B[38;5;28mself\u001B[39m\u001B[38;5;241m.\u001B[39mloss(x, t)\n\u001B[1;32m    134\u001B[0m \u001B[38;5;66;03m# backward\u001B[39;00m\n\u001B[1;32m    135\u001B[0m dout \u001B[38;5;241m=\u001B[39m \u001B[38;5;241m1\u001B[39m\n",
      "File \u001B[0;32m~/PycharmProjects/project1_20213128/simple_convent.py:77\u001B[0m, in \u001B[0;36mSimpleConvNet.loss\u001B[0;34m(self, x, t)\u001B[0m\n\u001B[1;32m     69\u001B[0m \u001B[38;5;28;01mdef\u001B[39;00m \u001B[38;5;21mloss\u001B[39m(\u001B[38;5;28mself\u001B[39m, x, t):\n\u001B[1;32m     70\u001B[0m \u001B[38;5;250m    \u001B[39m\u001B[38;5;124;03m\"\"\"손실 함수를 구한다.\u001B[39;00m\n\u001B[1;32m     71\u001B[0m \n\u001B[1;32m     72\u001B[0m \u001B[38;5;124;03m    Parameters\u001B[39;00m\n\u001B[0;32m   (...)\u001B[0m\n\u001B[1;32m     75\u001B[0m \u001B[38;5;124;03m    t : 정답 레이블\u001B[39;00m\n\u001B[1;32m     76\u001B[0m \u001B[38;5;124;03m    \"\"\"\u001B[39;00m\n\u001B[0;32m---> 77\u001B[0m     y \u001B[38;5;241m=\u001B[39m \u001B[38;5;28mself\u001B[39m\u001B[38;5;241m.\u001B[39mpredict(x)\n\u001B[1;32m     78\u001B[0m     \u001B[38;5;28;01mreturn\u001B[39;00m \u001B[38;5;28mself\u001B[39m\u001B[38;5;241m.\u001B[39mlast_layer\u001B[38;5;241m.\u001B[39mforward(y, t)\n",
      "File \u001B[0;32m~/PycharmProjects/project1_20213128/simple_convent.py:65\u001B[0m, in \u001B[0;36mSimpleConvNet.predict\u001B[0;34m(self, x)\u001B[0m\n\u001B[1;32m     63\u001B[0m \u001B[38;5;28;01mdef\u001B[39;00m \u001B[38;5;21mpredict\u001B[39m(\u001B[38;5;28mself\u001B[39m, x):\n\u001B[1;32m     64\u001B[0m     \u001B[38;5;28;01mfor\u001B[39;00m layer \u001B[38;5;129;01min\u001B[39;00m \u001B[38;5;28mself\u001B[39m\u001B[38;5;241m.\u001B[39mlayers\u001B[38;5;241m.\u001B[39mvalues():\n\u001B[0;32m---> 65\u001B[0m         x \u001B[38;5;241m=\u001B[39m layer\u001B[38;5;241m.\u001B[39mforward(x)\n\u001B[1;32m     67\u001B[0m     \u001B[38;5;28;01mreturn\u001B[39;00m x\n",
      "File \u001B[0;32m~/PycharmProjects/project1_20213128/common/layers.py:222\u001B[0m, in \u001B[0;36mConvolution.forward\u001B[0;34m(self, x)\u001B[0m\n\u001B[1;32m    219\u001B[0m out_h \u001B[38;5;241m=\u001B[39m \u001B[38;5;241m1\u001B[39m \u001B[38;5;241m+\u001B[39m \u001B[38;5;28mint\u001B[39m((H \u001B[38;5;241m+\u001B[39m \u001B[38;5;241m2\u001B[39m \u001B[38;5;241m*\u001B[39m \u001B[38;5;28mself\u001B[39m\u001B[38;5;241m.\u001B[39mpad \u001B[38;5;241m-\u001B[39m FH) \u001B[38;5;241m/\u001B[39m \u001B[38;5;28mself\u001B[39m\u001B[38;5;241m.\u001B[39mstride)\n\u001B[1;32m    220\u001B[0m out_w \u001B[38;5;241m=\u001B[39m \u001B[38;5;241m1\u001B[39m \u001B[38;5;241m+\u001B[39m \u001B[38;5;28mint\u001B[39m((W \u001B[38;5;241m+\u001B[39m \u001B[38;5;241m2\u001B[39m \u001B[38;5;241m*\u001B[39m \u001B[38;5;28mself\u001B[39m\u001B[38;5;241m.\u001B[39mpad \u001B[38;5;241m-\u001B[39m FW) \u001B[38;5;241m/\u001B[39m \u001B[38;5;28mself\u001B[39m\u001B[38;5;241m.\u001B[39mstride)\n\u001B[0;32m--> 222\u001B[0m col \u001B[38;5;241m=\u001B[39m im2col(x, FH, FW, \u001B[38;5;28mself\u001B[39m\u001B[38;5;241m.\u001B[39mstride, \u001B[38;5;28mself\u001B[39m\u001B[38;5;241m.\u001B[39mpad)\n\u001B[1;32m    223\u001B[0m col_W \u001B[38;5;241m=\u001B[39m \u001B[38;5;28mself\u001B[39m\u001B[38;5;241m.\u001B[39mW\u001B[38;5;241m.\u001B[39mreshape(FN, \u001B[38;5;241m-\u001B[39m\u001B[38;5;241m1\u001B[39m)\u001B[38;5;241m.\u001B[39mT\n\u001B[1;32m    225\u001B[0m out \u001B[38;5;241m=\u001B[39m np\u001B[38;5;241m.\u001B[39mdot(col, col_W) \u001B[38;5;241m+\u001B[39m \u001B[38;5;28mself\u001B[39m\u001B[38;5;241m.\u001B[39mb\n",
      "File \u001B[0;32m~/PycharmProjects/project1_20213128/common/util.py:60\u001B[0m, in \u001B[0;36mim2col\u001B[0;34m(input_data, filter_h, filter_w, stride, pad)\u001B[0m\n\u001B[1;32m     57\u001B[0m out_w \u001B[38;5;241m=\u001B[39m (W \u001B[38;5;241m+\u001B[39m \u001B[38;5;241m2\u001B[39m \u001B[38;5;241m*\u001B[39m pad \u001B[38;5;241m-\u001B[39m filter_w) \u001B[38;5;241m/\u001B[39m\u001B[38;5;241m/\u001B[39m stride \u001B[38;5;241m+\u001B[39m \u001B[38;5;241m1\u001B[39m\n\u001B[1;32m     59\u001B[0m img \u001B[38;5;241m=\u001B[39m np\u001B[38;5;241m.\u001B[39mpad(input_data, [(\u001B[38;5;241m0\u001B[39m, \u001B[38;5;241m0\u001B[39m), (\u001B[38;5;241m0\u001B[39m, \u001B[38;5;241m0\u001B[39m), (pad, pad), (pad, pad)], \u001B[38;5;124m'\u001B[39m\u001B[38;5;124mconstant\u001B[39m\u001B[38;5;124m'\u001B[39m)\n\u001B[0;32m---> 60\u001B[0m col \u001B[38;5;241m=\u001B[39m np\u001B[38;5;241m.\u001B[39mzeros((N, C, filter_h, filter_w, out_h, out_w))\n\u001B[1;32m     62\u001B[0m \u001B[38;5;28;01mfor\u001B[39;00m y \u001B[38;5;129;01min\u001B[39;00m \u001B[38;5;28mrange\u001B[39m(filter_h):\n\u001B[1;32m     63\u001B[0m     y_max \u001B[38;5;241m=\u001B[39m y \u001B[38;5;241m+\u001B[39m stride \u001B[38;5;241m*\u001B[39m out_h\n",
      "\u001B[0;31mValueError\u001B[0m: negative dimensions are not allowed"
     ]
    }
   ],
   "execution_count": 54
  },
  {
   "metadata": {
    "ExecuteTime": {
     "end_time": "2024-10-27T13:21:55.376602Z",
     "start_time": "2024-10-27T12:40:50.343450Z"
    }
   },
   "cell_type": "code",
   "source": [
    "# 매개변수 보존\n",
    "network.save_params(\"params.pkl\")\n",
    "print(\"Saved Network Parameters!\")"
   ],
   "id": "30a05143c2895e1e",
   "outputs": [
    {
     "name": "stdout",
     "output_type": "stream",
     "text": [
      "Saved Network Parameters!\n"
     ]
    }
   ],
   "execution_count": 47
  },
  {
   "metadata": {
    "ExecuteTime": {
     "end_time": "2024-10-27T13:21:55.895100Z",
     "start_time": "2024-10-27T12:40:51.080782Z"
    }
   },
   "cell_type": "code",
   "source": "trainer.train_acc_list",
   "id": "f190e0d1cb29632",
   "outputs": [
    {
     "data": {
      "text/plain": [
       "[0.7198067632850241]"
      ]
     },
     "execution_count": 48,
     "metadata": {},
     "output_type": "execute_result"
    }
   ],
   "execution_count": 48
  },
  {
   "metadata": {
    "ExecuteTime": {
     "end_time": "2024-10-27T13:21:55.909960Z",
     "start_time": "2024-10-27T12:40:53.282657Z"
    }
   },
   "cell_type": "code",
   "source": "trainer.test_acc_list",
   "id": "f0be022f24f98ede",
   "outputs": [
    {
     "data": {
      "text/plain": [
       "[0.7053140096618358]"
      ]
     },
     "execution_count": 49,
     "metadata": {},
     "output_type": "execute_result"
    }
   ],
   "execution_count": 49
  },
  {
   "metadata": {
    "ExecuteTime": {
     "end_time": "2024-10-27T13:21:55.914042Z",
     "start_time": "2024-10-27T12:40:57.318538Z"
    }
   },
   "cell_type": "code",
   "source": "x",
   "id": "1a151cb989060fcd",
   "outputs": [
    {
     "data": {
      "text/plain": [
       "array([0, 1, 2, 3, 4])"
      ]
     },
     "execution_count": 50,
     "metadata": {},
     "output_type": "execute_result"
    }
   ],
   "execution_count": 50
  },
  {
   "metadata": {
    "ExecuteTime": {
     "end_time": "2024-10-27T13:21:55.914916Z",
     "start_time": "2024-10-27T12:47:04.741189Z"
    }
   },
   "cell_type": "code",
   "source": [
    "# 그래프 그리기\n",
    "markers = {'train': 'o', 'test': 's'}\n",
    "x = np.arange(max_epochs)\n",
    "plt.plot(x, trainer.train_acc_list, marker='o', label='train', markevery=2)\n",
    "plt.plot(x, trainer.test_acc_list, marker='s', label='test', markevery=2)\n",
    "plt.xlabel(\"epochs\")\n",
    "plt.ylabel(\"accuracy\")\n",
    "plt.ylim(0, 1.0)\n",
    "plt.legend(loc='lower right')\n",
    "plt.show()"
   ],
   "id": "404fa22c9e93ef58",
   "outputs": [
    {
     "ename": "ValueError",
     "evalue": "x and y must have same first dimension, but have shapes (20,) and (1,)",
     "output_type": "error",
     "traceback": [
      "\u001B[0;31m---------------------------------------------------------------------------\u001B[0m",
      "\u001B[0;31mValueError\u001B[0m                                Traceback (most recent call last)",
      "Cell \u001B[0;32mIn[53], line 4\u001B[0m\n\u001B[1;32m      2\u001B[0m markers \u001B[38;5;241m=\u001B[39m {\u001B[38;5;124m'\u001B[39m\u001B[38;5;124mtrain\u001B[39m\u001B[38;5;124m'\u001B[39m: \u001B[38;5;124m'\u001B[39m\u001B[38;5;124mo\u001B[39m\u001B[38;5;124m'\u001B[39m, \u001B[38;5;124m'\u001B[39m\u001B[38;5;124mtest\u001B[39m\u001B[38;5;124m'\u001B[39m: \u001B[38;5;124m'\u001B[39m\u001B[38;5;124ms\u001B[39m\u001B[38;5;124m'\u001B[39m}\n\u001B[1;32m      3\u001B[0m x \u001B[38;5;241m=\u001B[39m np\u001B[38;5;241m.\u001B[39marange(max_epochs)\n\u001B[0;32m----> 4\u001B[0m plt\u001B[38;5;241m.\u001B[39mplot(x, trainer\u001B[38;5;241m.\u001B[39mtrain_acc_list, marker\u001B[38;5;241m=\u001B[39m\u001B[38;5;124m'\u001B[39m\u001B[38;5;124mo\u001B[39m\u001B[38;5;124m'\u001B[39m, label\u001B[38;5;241m=\u001B[39m\u001B[38;5;124m'\u001B[39m\u001B[38;5;124mtrain\u001B[39m\u001B[38;5;124m'\u001B[39m, markevery\u001B[38;5;241m=\u001B[39m\u001B[38;5;241m2\u001B[39m)\n\u001B[1;32m      5\u001B[0m plt\u001B[38;5;241m.\u001B[39mplot(x, trainer\u001B[38;5;241m.\u001B[39mtest_acc_list, marker\u001B[38;5;241m=\u001B[39m\u001B[38;5;124m'\u001B[39m\u001B[38;5;124ms\u001B[39m\u001B[38;5;124m'\u001B[39m, label\u001B[38;5;241m=\u001B[39m\u001B[38;5;124m'\u001B[39m\u001B[38;5;124mtest\u001B[39m\u001B[38;5;124m'\u001B[39m, markevery\u001B[38;5;241m=\u001B[39m\u001B[38;5;241m2\u001B[39m)\n\u001B[1;32m      6\u001B[0m plt\u001B[38;5;241m.\u001B[39mxlabel(\u001B[38;5;124m\"\u001B[39m\u001B[38;5;124mepochs\u001B[39m\u001B[38;5;124m\"\u001B[39m)\n",
      "File \u001B[0;32m~/miniconda3/lib/python3.12/site-packages/matplotlib/pyplot.py:3794\u001B[0m, in \u001B[0;36mplot\u001B[0;34m(scalex, scaley, data, *args, **kwargs)\u001B[0m\n\u001B[1;32m   3786\u001B[0m \u001B[38;5;129m@_copy_docstring_and_deprecators\u001B[39m(Axes\u001B[38;5;241m.\u001B[39mplot)\n\u001B[1;32m   3787\u001B[0m \u001B[38;5;28;01mdef\u001B[39;00m \u001B[38;5;21mplot\u001B[39m(\n\u001B[1;32m   3788\u001B[0m     \u001B[38;5;241m*\u001B[39margs: \u001B[38;5;28mfloat\u001B[39m \u001B[38;5;241m|\u001B[39m ArrayLike \u001B[38;5;241m|\u001B[39m \u001B[38;5;28mstr\u001B[39m,\n\u001B[0;32m   (...)\u001B[0m\n\u001B[1;32m   3792\u001B[0m     \u001B[38;5;241m*\u001B[39m\u001B[38;5;241m*\u001B[39mkwargs,\n\u001B[1;32m   3793\u001B[0m ) \u001B[38;5;241m-\u001B[39m\u001B[38;5;241m>\u001B[39m \u001B[38;5;28mlist\u001B[39m[Line2D]:\n\u001B[0;32m-> 3794\u001B[0m     \u001B[38;5;28;01mreturn\u001B[39;00m gca()\u001B[38;5;241m.\u001B[39mplot(\n\u001B[1;32m   3795\u001B[0m         \u001B[38;5;241m*\u001B[39margs,\n\u001B[1;32m   3796\u001B[0m         scalex\u001B[38;5;241m=\u001B[39mscalex,\n\u001B[1;32m   3797\u001B[0m         scaley\u001B[38;5;241m=\u001B[39mscaley,\n\u001B[1;32m   3798\u001B[0m         \u001B[38;5;241m*\u001B[39m\u001B[38;5;241m*\u001B[39m({\u001B[38;5;124m\"\u001B[39m\u001B[38;5;124mdata\u001B[39m\u001B[38;5;124m\"\u001B[39m: data} \u001B[38;5;28;01mif\u001B[39;00m data \u001B[38;5;129;01mis\u001B[39;00m \u001B[38;5;129;01mnot\u001B[39;00m \u001B[38;5;28;01mNone\u001B[39;00m \u001B[38;5;28;01melse\u001B[39;00m {}),\n\u001B[1;32m   3799\u001B[0m         \u001B[38;5;241m*\u001B[39m\u001B[38;5;241m*\u001B[39mkwargs,\n\u001B[1;32m   3800\u001B[0m     )\n",
      "File \u001B[0;32m~/miniconda3/lib/python3.12/site-packages/matplotlib/axes/_axes.py:1779\u001B[0m, in \u001B[0;36mAxes.plot\u001B[0;34m(self, scalex, scaley, data, *args, **kwargs)\u001B[0m\n\u001B[1;32m   1536\u001B[0m \u001B[38;5;250m\u001B[39m\u001B[38;5;124;03m\"\"\"\u001B[39;00m\n\u001B[1;32m   1537\u001B[0m \u001B[38;5;124;03mPlot y versus x as lines and/or markers.\u001B[39;00m\n\u001B[1;32m   1538\u001B[0m \n\u001B[0;32m   (...)\u001B[0m\n\u001B[1;32m   1776\u001B[0m \u001B[38;5;124;03m(``'green'``) or hex strings (``'#008000'``).\u001B[39;00m\n\u001B[1;32m   1777\u001B[0m \u001B[38;5;124;03m\"\"\"\u001B[39;00m\n\u001B[1;32m   1778\u001B[0m kwargs \u001B[38;5;241m=\u001B[39m cbook\u001B[38;5;241m.\u001B[39mnormalize_kwargs(kwargs, mlines\u001B[38;5;241m.\u001B[39mLine2D)\n\u001B[0;32m-> 1779\u001B[0m lines \u001B[38;5;241m=\u001B[39m [\u001B[38;5;241m*\u001B[39m\u001B[38;5;28mself\u001B[39m\u001B[38;5;241m.\u001B[39m_get_lines(\u001B[38;5;28mself\u001B[39m, \u001B[38;5;241m*\u001B[39margs, data\u001B[38;5;241m=\u001B[39mdata, \u001B[38;5;241m*\u001B[39m\u001B[38;5;241m*\u001B[39mkwargs)]\n\u001B[1;32m   1780\u001B[0m \u001B[38;5;28;01mfor\u001B[39;00m line \u001B[38;5;129;01min\u001B[39;00m lines:\n\u001B[1;32m   1781\u001B[0m     \u001B[38;5;28mself\u001B[39m\u001B[38;5;241m.\u001B[39madd_line(line)\n",
      "File \u001B[0;32m~/miniconda3/lib/python3.12/site-packages/matplotlib/axes/_base.py:296\u001B[0m, in \u001B[0;36m_process_plot_var_args.__call__\u001B[0;34m(self, axes, data, *args, **kwargs)\u001B[0m\n\u001B[1;32m    294\u001B[0m     this \u001B[38;5;241m+\u001B[39m\u001B[38;5;241m=\u001B[39m args[\u001B[38;5;241m0\u001B[39m],\n\u001B[1;32m    295\u001B[0m     args \u001B[38;5;241m=\u001B[39m args[\u001B[38;5;241m1\u001B[39m:]\n\u001B[0;32m--> 296\u001B[0m \u001B[38;5;28;01myield from\u001B[39;00m \u001B[38;5;28mself\u001B[39m\u001B[38;5;241m.\u001B[39m_plot_args(\n\u001B[1;32m    297\u001B[0m     axes, this, kwargs, ambiguous_fmt_datakey\u001B[38;5;241m=\u001B[39mambiguous_fmt_datakey)\n",
      "File \u001B[0;32m~/miniconda3/lib/python3.12/site-packages/matplotlib/axes/_base.py:486\u001B[0m, in \u001B[0;36m_process_plot_var_args._plot_args\u001B[0;34m(self, axes, tup, kwargs, return_kwargs, ambiguous_fmt_datakey)\u001B[0m\n\u001B[1;32m    483\u001B[0m     axes\u001B[38;5;241m.\u001B[39myaxis\u001B[38;5;241m.\u001B[39mupdate_units(y)\n\u001B[1;32m    485\u001B[0m \u001B[38;5;28;01mif\u001B[39;00m x\u001B[38;5;241m.\u001B[39mshape[\u001B[38;5;241m0\u001B[39m] \u001B[38;5;241m!=\u001B[39m y\u001B[38;5;241m.\u001B[39mshape[\u001B[38;5;241m0\u001B[39m]:\n\u001B[0;32m--> 486\u001B[0m     \u001B[38;5;28;01mraise\u001B[39;00m \u001B[38;5;167;01mValueError\u001B[39;00m(\u001B[38;5;124mf\u001B[39m\u001B[38;5;124m\"\u001B[39m\u001B[38;5;124mx and y must have same first dimension, but \u001B[39m\u001B[38;5;124m\"\u001B[39m\n\u001B[1;32m    487\u001B[0m                      \u001B[38;5;124mf\u001B[39m\u001B[38;5;124m\"\u001B[39m\u001B[38;5;124mhave shapes \u001B[39m\u001B[38;5;132;01m{\u001B[39;00mx\u001B[38;5;241m.\u001B[39mshape\u001B[38;5;132;01m}\u001B[39;00m\u001B[38;5;124m and \u001B[39m\u001B[38;5;132;01m{\u001B[39;00my\u001B[38;5;241m.\u001B[39mshape\u001B[38;5;132;01m}\u001B[39;00m\u001B[38;5;124m\"\u001B[39m)\n\u001B[1;32m    488\u001B[0m \u001B[38;5;28;01mif\u001B[39;00m x\u001B[38;5;241m.\u001B[39mndim \u001B[38;5;241m>\u001B[39m \u001B[38;5;241m2\u001B[39m \u001B[38;5;129;01mor\u001B[39;00m y\u001B[38;5;241m.\u001B[39mndim \u001B[38;5;241m>\u001B[39m \u001B[38;5;241m2\u001B[39m:\n\u001B[1;32m    489\u001B[0m     \u001B[38;5;28;01mraise\u001B[39;00m \u001B[38;5;167;01mValueError\u001B[39;00m(\u001B[38;5;124mf\u001B[39m\u001B[38;5;124m\"\u001B[39m\u001B[38;5;124mx and y can be no greater than 2D, but have \u001B[39m\u001B[38;5;124m\"\u001B[39m\n\u001B[1;32m    490\u001B[0m                      \u001B[38;5;124mf\u001B[39m\u001B[38;5;124m\"\u001B[39m\u001B[38;5;124mshapes \u001B[39m\u001B[38;5;132;01m{\u001B[39;00mx\u001B[38;5;241m.\u001B[39mshape\u001B[38;5;132;01m}\u001B[39;00m\u001B[38;5;124m and \u001B[39m\u001B[38;5;132;01m{\u001B[39;00my\u001B[38;5;241m.\u001B[39mshape\u001B[38;5;132;01m}\u001B[39;00m\u001B[38;5;124m\"\u001B[39m)\n",
      "\u001B[0;31mValueError\u001B[0m: x and y must have same first dimension, but have shapes (20,) and (1,)"
     ]
    },
    {
     "data": {
      "text/plain": [
       "<Figure size 640x480 with 1 Axes>"
      ],
      "image/png": "[encoded data removed]"
     },
     "metadata": {},
     "output_type": "display_data"
    }
   ],
   "execution_count": 53
  },
  {
   "metadata": {},
   "cell_type": "code",
   "outputs": [],
   "execution_count": null,
   "source": "",
   "id": "a098fc6cef1f7960"
  }
 ],
 "metadata": {
  "kernelspec": {
   "display_name": "Python 3",
   "language": "python",
   "name": "python3"
  },
  "language_info": {
   "codemirror_mode": {
    "name": "ipython",
    "version": 2
   },
   "file_extension": ".py",
   "mimetype": "text/x-python",
   "name": "python",
   "nbconvert_exporter": "python",
   "pygments_lexer": "ipython2",
   "version": "2.7.6"
  }
 },
 "nbformat": 4,
 "nbformat_minor": 5
}
